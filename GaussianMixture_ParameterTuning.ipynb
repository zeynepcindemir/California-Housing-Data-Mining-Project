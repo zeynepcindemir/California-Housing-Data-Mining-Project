{
 "cells": [
  {
   "cell_type": "markdown",
   "id": "87c0b54c",
   "metadata": {},
   "source": [
    "# Import Libraries"
   ]
  },
  {
   "cell_type": "code",
   "execution_count": 1,
   "id": "468f7ac1",
   "metadata": {},
   "outputs": [],
   "source": [
    "import pandas as pd\n",
    "from sklearn.preprocessing import StandardScaler, OneHotEncoder\n",
    "from sklearn.decomposition import PCA\n",
    "import matplotlib.pyplot as plt\n",
    "import numpy as np\n",
    "from sklearn.mixture import GaussianMixture\n",
    "from sklearn.metrics import silhouette_score, davies_bouldin_score, calinski_harabasz_score"
   ]
  },
  {
   "cell_type": "markdown",
   "id": "d29be8cc",
   "metadata": {},
   "source": [
    "- This script performs PCA dimension reduction and clustering using the Gaussian Mixture Model (GMM) on the California Housing dataset.\n",
    "- It explores different PCA dimensions and iteratively tests various configurations of GMM, including the number of components and covariance types.\n",
    "- Clustering performance is evaluated using metrics such as Silhouette Score, Davies-Bouldin Index, and Calinski-Harabasz Index.\n",
    "- The script systematically collects results for different parameter settings in a DataFrame for detailed analysis and comparison of clustering effectiveness."
   ]
  },
  {
   "cell_type": "markdown",
   "id": "bfbb5807",
   "metadata": {},
   "source": [
    "# Data Loading & Preprocessing"
   ]
  },
  {
   "cell_type": "code",
   "execution_count": 2,
   "id": "79f7330f",
   "metadata": {},
   "outputs": [],
   "source": [
    "path = 'C:\\\\Users\\\\zcindemir\\\\Desktop\\\\Data Mining Project\\\\housing.csv'\n",
    "housing = pd.read_csv(path)\n",
    "\n",
    "housing['total_bedrooms'].fillna(housing['total_bedrooms'].median(), inplace=True)\n",
    "\n",
    "encoder = OneHotEncoder()\n",
    "ocean_proximity_encoded = encoder.fit_transform(housing[['ocean_proximity']]).toarray()\n",
    "feature_names = encoder.get_feature_names_out(['ocean_proximity'])\n",
    "ocean_proximity_df = pd.DataFrame(ocean_proximity_encoded, columns=feature_names)\n",
    "housing_encoded = pd.concat([housing.drop('ocean_proximity', axis=1), ocean_proximity_df], axis=1)\n",
    "\n",
    "scaler = StandardScaler()\n",
    "housing_scaled = scaler.fit_transform(housing_encoded)"
   ]
  },
  {
   "cell_type": "code",
   "execution_count": 3,
   "id": "5412380b",
   "metadata": {},
   "outputs": [],
   "source": [
    "all_scores_gmm = []\n",
    "\n",
    "pca_dimensions = [2, 3, 4]\n",
    "\n",
    "n_components_values = [2, 3, 4, 5]\n",
    "covariance_type_options = ['full', 'tied', 'diag', 'spherical']\n",
    "\n",
    "for dim in pca_dimensions:\n",
    "    pca = PCA(n_components=dim)\n",
    "    housing_pca = pca.fit_transform(housing_scaled)\n",
    "\n",
    "    for n_components in n_components_values:\n",
    "        for covariance_type in covariance_type_options:\n",
    "            gmm = GaussianMixture(n_components=n_components, covariance_type=covariance_type, random_state=42)\n",
    "            gmm.fit(housing_pca)\n",
    "            cluster_labels = gmm.predict(housing_pca)\n",
    "\n",
    "            silhouette = silhouette_score(housing_pca, cluster_labels)\n",
    "            davies = davies_bouldin_score(housing_pca, cluster_labels)\n",
    "            calinski = calinski_harabasz_score(housing_pca, cluster_labels)\n",
    "\n",
    "            all_scores_gmm.append({\n",
    "                'PCA Dimensions': dim,\n",
    "                'Number of Components': n_components,\n",
    "                'Covariance Type': covariance_type,\n",
    "                'Silhouette Score': silhouette,\n",
    "                'Davies-Bouldin Index': davies,\n",
    "                'Calinski-Harabasz Index': calinski\n",
    "            })\n",
    "\n",
    "gmm_results_df = pd.DataFrame(all_scores_gmm)"
   ]
  },
  {
   "cell_type": "code",
   "execution_count": 4,
   "id": "6da4c487",
   "metadata": {},
   "outputs": [
    {
     "data": {
      "text/plain": [
       "PCA Dimensions                       3\n",
       "Number of Components                 2\n",
       "Covariance Type              spherical\n",
       "Silhouette Score               0.56945\n",
       "Davies-Bouldin Index          0.797889\n",
       "Calinski-Harabasz Index    5644.241739\n",
       "Name: 19, dtype: object"
      ]
     },
     "execution_count": 4,
     "metadata": {},
     "output_type": "execute_result"
    }
   ],
   "source": [
    "best_silhouette_row = gmm_results_df.loc[gmm_results_df['Silhouette Score'].idxmax()]\n",
    "best_silhouette_row"
   ]
  },
  {
   "cell_type": "code",
   "execution_count": 5,
   "id": "0f394474",
   "metadata": {},
   "outputs": [
    {
     "data": {
      "text/plain": [
       "PCA Dimensions                        2\n",
       "Number of Components                  4\n",
       "Covariance Type                    tied\n",
       "Silhouette Score               0.465717\n",
       "Davies-Bouldin Index           0.731839\n",
       "Calinski-Harabasz Index    14531.871617\n",
       "Name: 9, dtype: object"
      ]
     },
     "execution_count": 5,
     "metadata": {},
     "output_type": "execute_result"
    }
   ],
   "source": [
    "best_db_row = gmm_results_df.loc[gmm_results_df['Davies-Bouldin Index'].idxmin()]\n",
    "best_db_row"
   ]
  },
  {
   "cell_type": "code",
   "execution_count": 6,
   "id": "dac7564f",
   "metadata": {},
   "outputs": [
    {
     "data": {
      "text/plain": [
       "PCA Dimensions                        2\n",
       "Number of Components                  4\n",
       "Covariance Type               spherical\n",
       "Silhouette Score               0.474693\n",
       "Davies-Bouldin Index           0.769723\n",
       "Calinski-Harabasz Index    17110.732514\n",
       "Name: 11, dtype: object"
      ]
     },
     "execution_count": 6,
     "metadata": {},
     "output_type": "execute_result"
    }
   ],
   "source": [
    "best_ch_row = gmm_results_df.loc[gmm_results_df['Calinski-Harabasz Index'].idxmax()]\n",
    "best_ch_row"
   ]
  }
 ],
 "metadata": {
  "kernelspec": {
   "display_name": "Python 3 (ipykernel)",
   "language": "python",
   "name": "python3"
  },
  "language_info": {
   "codemirror_mode": {
    "name": "ipython",
    "version": 3
   },
   "file_extension": ".py",
   "mimetype": "text/x-python",
   "name": "python",
   "nbconvert_exporter": "python",
   "pygments_lexer": "ipython3",
   "version": "3.10.9"
  }
 },
 "nbformat": 4,
 "nbformat_minor": 5
}
