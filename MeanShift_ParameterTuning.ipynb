{
 "cells": [
  {
   "cell_type": "markdown",
   "id": "a9f048d1",
   "metadata": {},
   "source": [
    "# Import Libraries"
   ]
  },
  {
   "cell_type": "code",
   "execution_count": 1,
   "id": "85847b0a",
   "metadata": {},
   "outputs": [],
   "source": [
    "import pandas as pd\n",
    "import numpy as np\n",
    "from sklearn.preprocessing import StandardScaler, OneHotEncoder\n",
    "from sklearn.decomposition import PCA\n",
    "from sklearn.metrics import silhouette_score, davies_bouldin_score, calinski_harabasz_score\n",
    "import matplotlib.pyplot as plt\n",
    "from sklearn.cluster import MeanShift, estimate_bandwidth"
   ]
  },
  {
   "cell_type": "markdown",
   "id": "a4f5f7b0",
   "metadata": {},
   "source": [
    "- This script applies PCA dimension reduction and MeanShift clustering on the California Housing dataset.\n",
    "- It explores different PCA dimensions and tests various bandwidths around an estimated baseline for MeanShift.\n",
    "- The performance of each MeanShift configuration is evaluated using metrics such as Silhouette Score, Davies-Bouldin Index, and Calinski-Harabasz Index.\n",
    "- Results, including the number of clusters formed and performance metrics, are systematically collected in a DataFrame, providing a detailed analysis of how different bandwidth settings influence clustering outcomes."
   ]
  },
  {
   "cell_type": "markdown",
   "id": "779b44a6",
   "metadata": {},
   "source": [
    "# Data Loading & Preprocessing"
   ]
  },
  {
   "cell_type": "code",
   "execution_count": 2,
   "id": "31ac9a28",
   "metadata": {},
   "outputs": [],
   "source": [
    "path = 'C:\\\\Users\\\\zcindemir\\\\Desktop\\\\Data Mining Project\\\\housing.csv'\n",
    "housing = pd.read_csv(path)\n",
    "\n",
    "housing['total_bedrooms'].fillna(housing['total_bedrooms'].median(), inplace=True)\n",
    "\n",
    "encoder = OneHotEncoder()\n",
    "ocean_proximity_encoded = encoder.fit_transform(housing[['ocean_proximity']]).toarray()\n",
    "feature_names = encoder.get_feature_names_out(['ocean_proximity'])\n",
    "ocean_proximity_df = pd.DataFrame(ocean_proximity_encoded, columns=feature_names)\n",
    "housing_encoded = pd.concat([housing.drop('ocean_proximity', axis=1), ocean_proximity_df], axis=1)\n",
    "\n",
    "scaler = StandardScaler()\n",
    "housing_scaled = scaler.fit_transform(housing_encoded)"
   ]
  },
  {
   "cell_type": "code",
   "execution_count": 3,
   "id": "e9c83fb6",
   "metadata": {},
   "outputs": [],
   "source": [
    "all_scores_meanshift = []\n",
    "\n",
    "pca_dimensions = [2, 3, 4]\n",
    "\n",
    "for dim in pca_dimensions:\n",
    "    pca = PCA(n_components=dim)\n",
    "    housing_pca = pca.fit_transform(housing_scaled)\n",
    "\n",
    "    bandwidth_base = estimate_bandwidth(housing_pca)\n",
    "    bandwidths = [bandwidth_base * 0.75, bandwidth_base, bandwidth_base * 1.25]\n",
    "\n",
    "    for bandwidth in bandwidths:\n",
    "        meanshift = MeanShift(bandwidth=bandwidth)\n",
    "        cluster_labels = meanshift.fit_predict(housing_pca)\n",
    "\n",
    "        n_clusters_ = len(np.unique(cluster_labels))\n",
    "\n",
    "        silhouette = silhouette_score(housing_pca, cluster_labels)\n",
    "        davies = davies_bouldin_score(housing_pca, cluster_labels)\n",
    "        calinski = calinski_harabasz_score(housing_pca, cluster_labels)\n",
    "\n",
    "        all_scores_meanshift.append({\n",
    "            'PCA Dimensions': dim,\n",
    "            'Bandwidth': bandwidth,\n",
    "            'Number of Clusters': n_clusters_,\n",
    "            'Silhouette Score': silhouette,\n",
    "            'Davies-Bouldin Index': davies,\n",
    "            'Calinski-Harabasz Index': calinski\n",
    "        })\n",
    "\n",
    "meanshift_results_df = pd.DataFrame(all_scores_meanshift)"
   ]
  },
  {
   "cell_type": "code",
   "execution_count": 4,
   "id": "4ce81b97",
   "metadata": {},
   "outputs": [
    {
     "data": {
      "text/plain": [
       "PCA Dimensions               4.000000\n",
       "Bandwidth                    4.026624\n",
       "Number of Clusters           3.000000\n",
       "Silhouette Score             0.773110\n",
       "Davies-Bouldin Index         0.366508\n",
       "Calinski-Harabasz Index    721.350155\n",
       "Name: 8, dtype: float64"
      ]
     },
     "execution_count": 4,
     "metadata": {},
     "output_type": "execute_result"
    }
   ],
   "source": [
    "best_silhouette_row = meanshift_results_df.loc[meanshift_results_df['Silhouette Score'].idxmax()]\n",
    "best_silhouette_row"
   ]
  },
  {
   "cell_type": "code",
   "execution_count": 5,
   "id": "04723e78",
   "metadata": {},
   "outputs": [
    {
     "data": {
      "text/plain": [
       "PCA Dimensions               2.000000\n",
       "Bandwidth                    2.516025\n",
       "Number of Clusters           7.000000\n",
       "Silhouette Score             0.746202\n",
       "Davies-Bouldin Index         0.323255\n",
       "Calinski-Harabasz Index    884.785780\n",
       "Name: 2, dtype: float64"
      ]
     },
     "execution_count": 5,
     "metadata": {},
     "output_type": "execute_result"
    }
   ],
   "source": [
    "best_db_row = meanshift_results_df.loc[meanshift_results_df['Davies-Bouldin Index'].idxmin()]\n",
    "best_db_row"
   ]
  },
  {
   "cell_type": "code",
   "execution_count": 6,
   "id": "1d7625df",
   "metadata": {},
   "outputs": [
    {
     "data": {
      "text/plain": [
       "PCA Dimensions                2.000000\n",
       "Bandwidth                     2.012820\n",
       "Number of Clusters           11.000000\n",
       "Silhouette Score              0.450536\n",
       "Davies-Bouldin Index          0.440093\n",
       "Calinski-Harabasz Index    3559.740033\n",
       "Name: 1, dtype: float64"
      ]
     },
     "execution_count": 6,
     "metadata": {},
     "output_type": "execute_result"
    }
   ],
   "source": [
    "best_ch_row = meanshift_results_df.loc[meanshift_results_df['Calinski-Harabasz Index'].idxmax()]\n",
    "best_ch_row"
   ]
  }
 ],
 "metadata": {
  "kernelspec": {
   "display_name": "Python 3 (ipykernel)",
   "language": "python",
   "name": "python3"
  },
  "language_info": {
   "codemirror_mode": {
    "name": "ipython",
    "version": 3
   },
   "file_extension": ".py",
   "mimetype": "text/x-python",
   "name": "python",
   "nbconvert_exporter": "python",
   "pygments_lexer": "ipython3",
   "version": "3.10.9"
  }
 },
 "nbformat": 4,
 "nbformat_minor": 5
}
