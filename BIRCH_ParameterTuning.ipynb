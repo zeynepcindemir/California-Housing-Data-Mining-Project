{
 "cells": [
  {
   "cell_type": "markdown",
   "id": "8c3b5618",
   "metadata": {},
   "source": [
    "# Import Libraries"
   ]
  },
  {
   "cell_type": "code",
   "execution_count": 1,
   "id": "7d284f66",
   "metadata": {},
   "outputs": [],
   "source": [
    "import pandas as pd\n",
    "from sklearn.preprocessing import StandardScaler, OneHotEncoder\n",
    "from sklearn.decomposition import PCA\n",
    "from sklearn.metrics import silhouette_score, davies_bouldin_score, calinski_harabasz_score\n",
    "import matplotlib.pyplot as plt\n",
    "from sklearn.cluster import Birch"
   ]
  },
  {
   "cell_type": "markdown",
   "id": "e4bac8f0",
   "metadata": {},
   "source": [
    "# Data Loading & Preprocessing"
   ]
  },
  {
   "cell_type": "code",
   "execution_count": 2,
   "id": "f8e54473",
   "metadata": {},
   "outputs": [],
   "source": [
    "path = 'C:\\\\Users\\\\zcindemir\\\\Desktop\\\\Data Mining Project\\\\housing.csv'\n",
    "housing = pd.read_csv(path)\n",
    "\n",
    "housing['total_bedrooms'].fillna(housing['total_bedrooms'].median(), inplace=True)\n",
    "\n",
    "encoder = OneHotEncoder()\n",
    "ocean_proximity_encoded = encoder.fit_transform(housing[['ocean_proximity']]).toarray()\n",
    "feature_names = encoder.get_feature_names_out(['ocean_proximity'])\n",
    "ocean_proximity_df = pd.DataFrame(ocean_proximity_encoded, columns=feature_names)\n",
    "housing_encoded = pd.concat([housing.drop('ocean_proximity', axis=1), ocean_proximity_df], axis=1)\n",
    "\n",
    "scaler = StandardScaler()\n",
    "housing_scaled = scaler.fit_transform(housing_encoded)"
   ]
  },
  {
   "cell_type": "markdown",
   "id": "9c6a6f61",
   "metadata": {},
   "source": [
    "- This script extends the analysis to include BIRCH clustering with hyperparameter tuning on the California Housing dataset.\n",
    "- It handles data loading, preprocessing, PCA for dimension reduction, and experiments with various configurations of BIRCH clustering.\n",
    "- Parameters like threshold, branching factors, and number of clusters are iteratively tested.\n",
    "- Clustering performance is evaluated using metrics such as Silhouette Score, Davies-Bouldin Index, and Calinski-Harabasz Index.\n",
    "- The script aims to provide insights on how different configurations impact the clustering results, capturing these in a DataFrame for further analysis."
   ]
  },
  {
   "cell_type": "code",
   "execution_count": 3,
   "id": "83056b30",
   "metadata": {},
   "outputs": [],
   "source": [
    "all_scores_birch = []\n",
    "\n",
    "pca_dimensions = [2, 3, 4]\n",
    "threshold_values = [0.1, 0.3, 0.5]\n",
    "branching_factors = [20, 50, 100]\n",
    "cluster_counts = [5, 6, 7, 8]\n",
    "\n",
    "\n",
    "for dim in pca_dimensions:\n",
    "    pca = PCA(n_components=dim)\n",
    "    housing_pca = pca.fit_transform(housing_scaled)\n",
    "\n",
    "    for threshold in threshold_values:\n",
    "        for branching_factor in branching_factors:\n",
    "            for clusters in cluster_counts:\n",
    "                birch = Birch(threshold=threshold, branching_factor=branching_factor, n_clusters=clusters)\n",
    "                cluster_labels = birch.fit_predict(housing_pca)\n",
    "\n",
    "                silhouette = silhouette_score(housing_pca, cluster_labels)\n",
    "                davies = davies_bouldin_score(housing_pca, cluster_labels)\n",
    "                calinski = calinski_harabasz_score(housing_pca, cluster_labels)\n",
    "\n",
    "                all_scores_birch.append({\n",
    "                    'PCA Dimensions': dim,\n",
    "                    'Threshold': threshold,\n",
    "                    'Branching Factor': branching_factor,\n",
    "                    'Number of Clusters': clusters,\n",
    "                    'Silhouette Score': silhouette,\n",
    "                    'Davies-Bouldin Index': davies,\n",
    "                    'Calinski-Harabasz Index': calinski\n",
    "                })\n",
    "\n",
    "birch_results_df = pd.DataFrame(all_scores_birch)"
   ]
  },
  {
   "cell_type": "code",
   "execution_count": 4,
   "id": "f0200f80",
   "metadata": {},
   "outputs": [
    {
     "data": {
      "text/plain": [
       "PCA Dimensions                2.000000\n",
       "Threshold                     0.500000\n",
       "Branching Factor            100.000000\n",
       "Number of Clusters            5.000000\n",
       "Silhouette Score              0.553121\n",
       "Davies-Bouldin Index          0.620969\n",
       "Calinski-Harabasz Index    2786.190475\n",
       "Name: 32, dtype: float64"
      ]
     },
     "execution_count": 4,
     "metadata": {},
     "output_type": "execute_result"
    }
   ],
   "source": [
    "best_silhouette_row = birch_results_df.loc[birch_results_df['Silhouette Score'].idxmax()]\n",
    "best_silhouette_row"
   ]
  },
  {
   "cell_type": "code",
   "execution_count": 5,
   "id": "b06446a8",
   "metadata": {},
   "outputs": [
    {
     "data": {
      "text/plain": [
       "PCA Dimensions                2.000000\n",
       "Threshold                     0.500000\n",
       "Branching Factor            100.000000\n",
       "Number of Clusters            5.000000\n",
       "Silhouette Score              0.553121\n",
       "Davies-Bouldin Index          0.620969\n",
       "Calinski-Harabasz Index    2786.190475\n",
       "Name: 32, dtype: float64"
      ]
     },
     "execution_count": 5,
     "metadata": {},
     "output_type": "execute_result"
    }
   ],
   "source": [
    "best_db_row = birch_results_df.loc[birch_results_df['Davies-Bouldin Index'].idxmin()]\n",
    "best_db_row"
   ]
  },
  {
   "cell_type": "code",
   "execution_count": 6,
   "id": "04e9ea05",
   "metadata": {},
   "outputs": [
    {
     "data": {
      "text/plain": [
       "PCA Dimensions                 2.000000\n",
       "Threshold                      0.100000\n",
       "Branching Factor              20.000000\n",
       "Number of Clusters             5.000000\n",
       "Silhouette Score               0.427710\n",
       "Davies-Bouldin Index           0.739195\n",
       "Calinski-Harabasz Index    11824.582345\n",
       "Name: 0, dtype: float64"
      ]
     },
     "execution_count": 6,
     "metadata": {},
     "output_type": "execute_result"
    }
   ],
   "source": [
    "best_ch_row = birch_results_df.loc[birch_results_df['Calinski-Harabasz Index'].idxmax()]\n",
    "best_ch_row"
   ]
  }
 ],
 "metadata": {
  "kernelspec": {
   "display_name": "Python 3 (ipykernel)",
   "language": "python",
   "name": "python3"
  },
  "language_info": {
   "codemirror_mode": {
    "name": "ipython",
    "version": 3
   },
   "file_extension": ".py",
   "mimetype": "text/x-python",
   "name": "python",
   "nbconvert_exporter": "python",
   "pygments_lexer": "ipython3",
   "version": "3.10.9"
  }
 },
 "nbformat": 4,
 "nbformat_minor": 5
}
