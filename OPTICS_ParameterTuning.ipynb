{
 "cells": [
  {
   "cell_type": "markdown",
   "id": "5159d6a1",
   "metadata": {},
   "source": [
    "# Import Libraries"
   ]
  },
  {
   "cell_type": "code",
   "execution_count": 7,
   "id": "c1adeefa",
   "metadata": {},
   "outputs": [],
   "source": [
    "import pandas as pd\n",
    "import numpy as np\n",
    "from sklearn.preprocessing import OneHotEncoder, StandardScaler\n",
    "from sklearn.metrics import silhouette_score, davies_bouldin_score, calinski_harabasz_score\n",
    "from sklearn.cluster import OPTICS\n",
    "import matplotlib.pyplot as plt\n",
    "from sklearn.decomposition import PCA"
   ]
  },
  {
   "cell_type": "markdown",
   "id": "6ff7371b",
   "metadata": {},
   "source": [
    "- This script performs PCA dimension reduction and clustering using the OPTICS algorithm on the California Housing dataset.\n",
    "- It tests various PCA dimensions and iterates over different configurations of OPTICS, adjusting parameters like minimum samples, xi, and minimum cluster size.\n",
    "- The performance of each OPTICS configuration is evaluated using metrics such as Silhouette Score, Davies-Bouldin Index, and Calinski-Harabasz Index.\n",
    "- Results, including the number of clusters formed and performance metrics, are systematically collected in a DataFrame, providing a comprehensive analysis of how different OPTICS settings influence clustering effectiveness.\n",
    "- Special consideration is given to handle cases where OPTICS may detect less than two clusters, signifying potential issues with parameter settings or data suitability."
   ]
  },
  {
   "cell_type": "markdown",
   "id": "0fe87ab6",
   "metadata": {},
   "source": [
    "# Data Loading & Preprocessing"
   ]
  },
  {
   "cell_type": "code",
   "execution_count": 8,
   "id": "9a74c639",
   "metadata": {},
   "outputs": [],
   "source": [
    "path = 'C:\\\\Users\\\\zcindemir\\\\Desktop\\\\Data Mining Project\\\\housing.csv'\n",
    "housing = pd.read_csv(path)\n",
    "\n",
    "housing['total_bedrooms'].fillna(housing['total_bedrooms'].median(), inplace=True)\n",
    "\n",
    "encoder = OneHotEncoder()\n",
    "ocean_proximity_encoded = encoder.fit_transform(housing[['ocean_proximity']]).toarray()\n",
    "feature_names = encoder.get_feature_names_out(['ocean_proximity'])\n",
    "ocean_proximity_df = pd.DataFrame(ocean_proximity_encoded, columns=feature_names)\n",
    "housing_encoded = pd.concat([housing.drop('ocean_proximity', axis=1), ocean_proximity_df], axis=1)\n",
    "\n",
    "scaler = StandardScaler()\n",
    "housing_scaled = scaler.fit_transform(housing_encoded)"
   ]
  },
  {
   "cell_type": "code",
   "execution_count": 9,
   "id": "2caad1e5",
   "metadata": {},
   "outputs": [],
   "source": [
    "all_scores_optics = []\n",
    "\n",
    "pca_dimensions = [2, 3, 4]\n",
    "\n",
    "min_samples_values = range(5, 56, 10)\n",
    "xi_values = [0.05, 0.1, 0.15]\n",
    "min_cluster_size_values = range(5, 56, 10)\n",
    "\n",
    "for dim in pca_dimensions:\n",
    "    pca = PCA(n_components=dim)\n",
    "    housing_pca = pca.fit_transform(housing_scaled)\n",
    "\n",
    "    for min_samples in min_samples_values:\n",
    "        for xi in xi_values:\n",
    "            for min_cluster_size in min_cluster_size_values:\n",
    "                optics = OPTICS(min_samples=min_samples, xi=xi, min_cluster_size=min_cluster_size)\n",
    "                cluster_labels = optics.fit_predict(housing_pca)\n",
    "\n",
    "                if len(np.unique(cluster_labels)) < 2:\n",
    "                    continue\n",
    "\n",
    "                silhouette = silhouette_score(housing_pca, cluster_labels) if len(set(cluster_labels)) > 1 else -1\n",
    "                davies = davies_bouldin_score(housing_pca, cluster_labels) if len(set(cluster_labels)) > 1 else float('inf')\n",
    "                calinski = calinski_harabasz_score(housing_pca, cluster_labels) if len(set(cluster_labels)) > 1 else 0\n",
    "\n",
    "                all_scores_optics.append({\n",
    "                    'PCA Dimensions': dim,\n",
    "                    'Min Samples': min_samples,\n",
    "                    'Xi': xi,\n",
    "                    'Min Cluster Size': min_cluster_size,\n",
    "                    'Number of Clusters': len(np.unique(cluster_labels)),\n",
    "                    'Silhouette Score': silhouette,\n",
    "                    'Davies-Bouldin Index': davies,\n",
    "                    'Calinski-Harabasz Index': calinski\n",
    "                })\n",
    "\n",
    "optics_results_df = pd.DataFrame(all_scores_optics)"
   ]
  },
  {
   "cell_type": "code",
   "execution_count": 10,
   "id": "4caa09d0",
   "metadata": {},
   "outputs": [
    {
     "data": {
      "text/plain": [
       "PCA Dimensions                2.000000\n",
       "Min Samples                  15.000000\n",
       "Xi                            0.050000\n",
       "Min Cluster Size             55.000000\n",
       "Number of Clusters            2.000000\n",
       "Silhouette Score              0.843555\n",
       "Davies-Bouldin Index          0.307048\n",
       "Calinski-Harabasz Index    1805.292548\n",
       "Name: 23, dtype: float64"
      ]
     },
     "execution_count": 10,
     "metadata": {},
     "output_type": "execute_result"
    }
   ],
   "source": [
    "best_silhouette_row = optics_results_df.loc[optics_results_df['Silhouette Score'].idxmax()]\n",
    "best_silhouette_row"
   ]
  },
  {
   "cell_type": "code",
   "execution_count": 11,
   "id": "3ec5f34f",
   "metadata": {},
   "outputs": [
    {
     "data": {
      "text/plain": [
       "PCA Dimensions                2.000000\n",
       "Min Samples                  15.000000\n",
       "Xi                            0.100000\n",
       "Min Cluster Size             25.000000\n",
       "Number of Clusters            2.000000\n",
       "Silhouette Score              0.837356\n",
       "Davies-Bouldin Index          0.306395\n",
       "Calinski-Harabasz Index    2090.089207\n",
       "Name: 26, dtype: float64"
      ]
     },
     "execution_count": 11,
     "metadata": {},
     "output_type": "execute_result"
    }
   ],
   "source": [
    "best_db_row = optics_results_df.loc[optics_results_df['Davies-Bouldin Index'].idxmin()]\n",
    "best_db_row"
   ]
  },
  {
   "cell_type": "code",
   "execution_count": 12,
   "id": "b95b9f2e",
   "metadata": {},
   "outputs": [
    {
     "data": {
      "text/plain": [
       "PCA Dimensions                2.000000\n",
       "Min Samples                  45.000000\n",
       "Xi                            0.050000\n",
       "Min Cluster Size             35.000000\n",
       "Number of Clusters            2.000000\n",
       "Silhouette Score              0.759991\n",
       "Davies-Bouldin Index          0.451217\n",
       "Calinski-Harabasz Index    4876.698861\n",
       "Name: 51, dtype: float64"
      ]
     },
     "execution_count": 12,
     "metadata": {},
     "output_type": "execute_result"
    }
   ],
   "source": [
    "best_ch_row = optics_results_df.loc[optics_results_df['Calinski-Harabasz Index'].idxmax()]\n",
    "best_ch_row"
   ]
  }
 ],
 "metadata": {
  "kernelspec": {
   "display_name": "Python 3 (ipykernel)",
   "language": "python",
   "name": "python3"
  },
  "language_info": {
   "codemirror_mode": {
    "name": "ipython",
    "version": 3
   },
   "file_extension": ".py",
   "mimetype": "text/x-python",
   "name": "python",
   "nbconvert_exporter": "python",
   "pygments_lexer": "ipython3",
   "version": "3.10.9"
  }
 },
 "nbformat": 4,
 "nbformat_minor": 5
}
