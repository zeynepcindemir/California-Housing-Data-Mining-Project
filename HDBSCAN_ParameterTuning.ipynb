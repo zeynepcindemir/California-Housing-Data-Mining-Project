{
 "cells": [
  {
   "cell_type": "markdown",
   "id": "7a968d5e",
   "metadata": {},
   "source": [
    "# Import Libraries"
   ]
  },
  {
   "cell_type": "code",
   "execution_count": 1,
   "id": "070119ac",
   "metadata": {},
   "outputs": [],
   "source": [
    "import pandas as pd\n",
    "from sklearn.preprocessing import StandardScaler, OneHotEncoder\n",
    "from sklearn.decomposition import PCA\n",
    "import matplotlib.pyplot as plt\n",
    "import numpy as np\n",
    "from hdbscan import HDBSCAN\n",
    "from sklearn.metrics import silhouette_score, davies_bouldin_score, calinski_harabasz_score"
   ]
  },
  {
   "cell_type": "markdown",
   "id": "7aa20405",
   "metadata": {},
   "source": [
    "- This script performs PCA dimension reduction and clustering using HDBSCAN on the California Housing dataset.\n",
    "- It tests various PCA dimensions and explores different configurations of HDBSCAN, adjusting parameters like minimum cluster size and samples.\n",
    "- Clustering performance is evaluated using metrics such as Silhouette Score, Davies-Bouldin Index, and Calinski-Harabasz Index.\n",
    "- The script captures the clustering metrics for different parameter settings in a DataFrame, providing a comprehensive analysis of clustering effectiveness.\n",
    "- Special attention is given to handling noise as identified by HDBSCAN, with metrics computed only for valid clusters."
   ]
  },
  {
   "cell_type": "markdown",
   "id": "f9279b89",
   "metadata": {},
   "source": [
    "# Data Loading & Preprocessing"
   ]
  },
  {
   "cell_type": "code",
   "execution_count": 2,
   "id": "90698f58",
   "metadata": {},
   "outputs": [],
   "source": [
    "path = 'C:\\\\Users\\\\zcindemir\\\\Desktop\\\\Data Mining Project\\\\housing.csv'\n",
    "housing = pd.read_csv(path)\n",
    "\n",
    "housing['total_bedrooms'].fillna(housing['total_bedrooms'].median(), inplace=True)\n",
    "\n",
    "encoder = OneHotEncoder()\n",
    "ocean_proximity_encoded = encoder.fit_transform(housing[['ocean_proximity']]).toarray()\n",
    "feature_names = encoder.get_feature_names_out(['ocean_proximity'])\n",
    "ocean_proximity_df = pd.DataFrame(ocean_proximity_encoded, columns=feature_names)\n",
    "housing_encoded = pd.concat([housing.drop('ocean_proximity', axis=1), ocean_proximity_df], axis=1)\n",
    "\n",
    "scaler = StandardScaler()\n",
    "housing_scaled = scaler.fit_transform(housing_encoded)"
   ]
  },
  {
   "cell_type": "code",
   "execution_count": 3,
   "id": "c04c31c7",
   "metadata": {},
   "outputs": [],
   "source": [
    "all_scores_hdbscan = []\n",
    "\n",
    "pca_dimensions = [2, 3, 4]\n",
    "\n",
    "min_cluster_size_values = [5, 10, 15]\n",
    "min_samples_values = [5, 10, 15]\n",
    "\n",
    "for dim in pca_dimensions:\n",
    "    pca = PCA(n_components=dim)\n",
    "    housing_pca = pca.fit_transform(housing_scaled)\n",
    "\n",
    "    for min_cluster_size in min_cluster_size_values:\n",
    "        for min_samples in min_samples_values:\n",
    "            hdbscan_model = HDBSCAN(min_cluster_size=min_cluster_size, min_samples=min_samples)\n",
    "            cluster_labels = hdbscan_model.fit_predict(housing_pca)\n",
    "\n",
    "            if np.unique(cluster_labels).size > 1:\n",
    "                silhouette = silhouette_score(housing_pca, cluster_labels)\n",
    "                davies = davies_bouldin_score(housing_pca, cluster_labels)\n",
    "                calinski = calinski_harabasz_score(housing_pca, cluster_labels)\n",
    "\n",
    "                all_scores_hdbscan.append({\n",
    "                    'PCA Dimensions': dim,\n",
    "                    'Min Cluster Size': min_cluster_size,\n",
    "                    'Min Samples': min_samples,\n",
    "                    'Silhouette Score': silhouette,\n",
    "                    'Davies-Bouldin Index': davies,\n",
    "                    'Calinski-Harabasz Index': calinski\n",
    "                })\n",
    "\n",
    "hdbscan_results_df = pd.DataFrame(all_scores_hdbscan)"
   ]
  },
  {
   "cell_type": "code",
   "execution_count": 4,
   "id": "dc745607",
   "metadata": {},
   "outputs": [
    {
     "data": {
      "text/plain": [
       "PCA Dimensions                3.000000\n",
       "Min Cluster Size              5.000000\n",
       "Min Samples                  10.000000\n",
       "Silhouette Score              0.612225\n",
       "Davies-Bouldin Index          1.970577\n",
       "Calinski-Harabasz Index    1043.581384\n",
       "Name: 10, dtype: float64"
      ]
     },
     "execution_count": 4,
     "metadata": {},
     "output_type": "execute_result"
    }
   ],
   "source": [
    "best_silhouette_row = hdbscan_results_df.loc[hdbscan_results_df['Silhouette Score'].idxmax()]\n",
    "best_silhouette_row"
   ]
  },
  {
   "cell_type": "code",
   "execution_count": 5,
   "id": "19113c38",
   "metadata": {},
   "outputs": [
    {
     "data": {
      "text/plain": [
       "PCA Dimensions                2.000000\n",
       "Min Cluster Size             15.000000\n",
       "Min Samples                  15.000000\n",
       "Silhouette Score              0.567482\n",
       "Davies-Bouldin Index          1.115248\n",
       "Calinski-Harabasz Index    2634.406730\n",
       "Name: 8, dtype: float64"
      ]
     },
     "execution_count": 5,
     "metadata": {},
     "output_type": "execute_result"
    }
   ],
   "source": [
    "best_db_row = hdbscan_results_df.loc[hdbscan_results_df['Davies-Bouldin Index'].idxmin()]\n",
    "best_db_row"
   ]
  },
  {
   "cell_type": "code",
   "execution_count": 6,
   "id": "059df23e",
   "metadata": {},
   "outputs": [
    {
     "data": {
      "text/plain": [
       "PCA Dimensions                4.000000\n",
       "Min Cluster Size             15.000000\n",
       "Min Samples                  10.000000\n",
       "Silhouette Score              0.304936\n",
       "Davies-Bouldin Index          1.162807\n",
       "Calinski-Harabasz Index    3778.307170\n",
       "Name: 25, dtype: float64"
      ]
     },
     "execution_count": 6,
     "metadata": {},
     "output_type": "execute_result"
    }
   ],
   "source": [
    "best_ch_row = hdbscan_results_df.loc[hdbscan_results_df['Calinski-Harabasz Index'].idxmax()]\n",
    "best_ch_row"
   ]
  }
 ],
 "metadata": {
  "kernelspec": {
   "display_name": "Python 3 (ipykernel)",
   "language": "python",
   "name": "python3"
  },
  "language_info": {
   "codemirror_mode": {
    "name": "ipython",
    "version": 3
   },
   "file_extension": ".py",
   "mimetype": "text/x-python",
   "name": "python",
   "nbconvert_exporter": "python",
   "pygments_lexer": "ipython3",
   "version": "3.10.9"
  }
 },
 "nbformat": 4,
 "nbformat_minor": 5
}
