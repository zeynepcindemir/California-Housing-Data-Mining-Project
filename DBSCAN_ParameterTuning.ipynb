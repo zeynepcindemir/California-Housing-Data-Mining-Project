{
 "cells": [
  {
   "cell_type": "markdown",
   "id": "549c7959",
   "metadata": {},
   "source": [
    "# Import Libraries"
   ]
  },
  {
   "cell_type": "code",
   "execution_count": 1,
   "id": "d23759f8",
   "metadata": {},
   "outputs": [],
   "source": [
    "import pandas as pd\n",
    "import numpy as np\n",
    "from sklearn.preprocessing import StandardScaler, OneHotEncoder\n",
    "from sklearn.decomposition import PCA\n",
    "from sklearn.metrics import silhouette_score, davies_bouldin_score, calinski_harabasz_score\n",
    "import matplotlib.pyplot as plt\n",
    "from sklearn.neighbors import NearestNeighbors\n",
    "from sklearn.cluster import DBSCAN"
   ]
  },
  {
   "cell_type": "markdown",
   "id": "5bf95adf",
   "metadata": {},
   "source": [
    "- This script performs PCA dimension reduction and DBSCAN clustering on the California Housing dataset.\n",
    "- It includes hyperparameter tuning for DBSCAN with various epsilon and min_samples values across different PCA reduced dimensions.\n",
    "- The script evaluates clustering performance using metrics like Silhouette Score, Davies-Bouldin Index, and Calinski-Harabasz Index, and aims to identify optimal clustering configurations. Results are collected in a DataFrame for analysis, with considerations for cases where DBSCAN might detect less than two clusters."
   ]
  },
  {
   "cell_type": "markdown",
   "id": "2fd9c0d5",
   "metadata": {},
   "source": [
    "# Data Loading & Preprocessing"
   ]
  },
  {
   "cell_type": "code",
   "execution_count": 2,
   "id": "6854e9bc",
   "metadata": {},
   "outputs": [],
   "source": [
    "path = 'C:\\\\Users\\\\zcindemir\\\\Desktop\\\\Data Mining Project\\\\housing.csv'\n",
    "housing = pd.read_csv(path)\n",
    "\n",
    "housing['total_bedrooms'].fillna(housing['total_bedrooms'].median(), inplace=True)\n",
    "\n",
    "encoder = OneHotEncoder()\n",
    "ocean_proximity_encoded = encoder.fit_transform(housing[['ocean_proximity']]).toarray()\n",
    "feature_names = encoder.get_feature_names_out(['ocean_proximity'])\n",
    "ocean_proximity_df = pd.DataFrame(ocean_proximity_encoded, columns=feature_names)\n",
    "housing_encoded = pd.concat([housing.drop('ocean_proximity', axis=1), ocean_proximity_df], axis=1)\n",
    "\n",
    "scaler = StandardScaler()\n",
    "housing_scaled = scaler.fit_transform(housing_encoded)"
   ]
  },
  {
   "cell_type": "code",
   "execution_count": 3,
   "id": "b019bad2",
   "metadata": {},
   "outputs": [],
   "source": [
    "all_scores_dbscan = []\n",
    "\n",
    "pca_dimensions = [2, 3, 4]\n",
    "\n",
    "eps_values = [0.1, 0.3, 0.5]\n",
    "min_samples_values = [5, 10, 20]\n",
    "\n",
    "for dim in pca_dimensions:\n",
    "    pca = PCA(n_components=dim)\n",
    "    housing_pca = pca.fit_transform(housing_scaled)\n",
    "\n",
    "    for eps in eps_values:\n",
    "        for min_samples in min_samples_values:\n",
    "            dbscan = DBSCAN(eps=eps, min_samples=min_samples)\n",
    "            cluster_labels = dbscan.fit_predict(housing_pca)\n",
    "\n",
    "            if len(np.unique(cluster_labels)) < 2:\n",
    "                continue\n",
    "\n",
    "            silhouette = silhouette_score(housing_pca, cluster_labels) if len(set(cluster_labels)) > 1 else -1\n",
    "            davies = davies_bouldin_score(housing_pca, cluster_labels) if len(set(cluster_labels)) > 1 else float('inf')\n",
    "            calinski = calinski_harabasz_score(housing_pca, cluster_labels) if len(set(cluster_labels)) > 1 else 0\n",
    "\n",
    "            all_scores_dbscan.append({\n",
    "                'PCA Dimensions': dim,\n",
    "                'Epsilon': eps,\n",
    "                'Min Samples': min_samples,\n",
    "                'Number of Clusters': len(np.unique(cluster_labels)),\n",
    "                'Silhouette Score': silhouette,\n",
    "                'Davies-Bouldin Index': davies,\n",
    "                'Calinski-Harabasz Index': calinski\n",
    "            })\n",
    "\n",
    "dbscan_results_df = pd.DataFrame(all_scores_dbscan)"
   ]
  },
  {
   "cell_type": "code",
   "execution_count": 4,
   "id": "7e945b41",
   "metadata": {},
   "outputs": [
    {
     "data": {
      "text/plain": [
       "PCA Dimensions                2.000000\n",
       "Epsilon                       0.500000\n",
       "Min Samples                  10.000000\n",
       "Number of Clusters            5.000000\n",
       "Silhouette Score              0.652755\n",
       "Davies-Bouldin Index          1.110853\n",
       "Calinski-Harabasz Index    1215.766418\n",
       "Name: 7, dtype: float64"
      ]
     },
     "execution_count": 4,
     "metadata": {},
     "output_type": "execute_result"
    }
   ],
   "source": [
    "best_silhouette_row = dbscan_results_df.loc[dbscan_results_df['Silhouette Score'].idxmax()]\n",
    "best_silhouette_row"
   ]
  },
  {
   "cell_type": "code",
   "execution_count": 5,
   "id": "ecea7ffd",
   "metadata": {},
   "outputs": [
    {
     "data": {
      "text/plain": [
       "PCA Dimensions                2.000000\n",
       "Epsilon                       0.500000\n",
       "Min Samples                  20.000000\n",
       "Number of Clusters            3.000000\n",
       "Silhouette Score              0.566215\n",
       "Davies-Bouldin Index          0.704011\n",
       "Calinski-Harabasz Index    2802.916801\n",
       "Name: 8, dtype: float64"
      ]
     },
     "execution_count": 5,
     "metadata": {},
     "output_type": "execute_result"
    }
   ],
   "source": [
    "best_db_row = dbscan_results_df.loc[dbscan_results_df['Davies-Bouldin Index'].idxmin()]\n",
    "best_db_row"
   ]
  },
  {
   "cell_type": "code",
   "execution_count": 6,
   "id": "6f9156f3",
   "metadata": {},
   "outputs": [
    {
     "data": {
      "text/plain": [
       "PCA Dimensions                4.000000\n",
       "Epsilon                       0.500000\n",
       "Min Samples                  20.000000\n",
       "Number of Clusters            7.000000\n",
       "Silhouette Score              0.305811\n",
       "Davies-Bouldin Index          1.348639\n",
       "Calinski-Harabasz Index    3587.521084\n",
       "Name: 26, dtype: float64"
      ]
     },
     "execution_count": 6,
     "metadata": {},
     "output_type": "execute_result"
    }
   ],
   "source": [
    "best_ch_row = dbscan_results_df.loc[dbscan_results_df['Calinski-Harabasz Index'].idxmax()]\n",
    "best_ch_row"
   ]
  }
 ],
 "metadata": {
  "kernelspec": {
   "display_name": "Python 3 (ipykernel)",
   "language": "python",
   "name": "python3"
  },
  "language_info": {
   "codemirror_mode": {
    "name": "ipython",
    "version": 3
   },
   "file_extension": ".py",
   "mimetype": "text/x-python",
   "name": "python",
   "nbconvert_exporter": "python",
   "pygments_lexer": "ipython3",
   "version": "3.10.9"
  }
 },
 "nbformat": 4,
 "nbformat_minor": 5
}
