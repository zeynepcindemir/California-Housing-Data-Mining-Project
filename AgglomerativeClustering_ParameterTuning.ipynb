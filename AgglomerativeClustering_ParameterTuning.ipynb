{
 "cells": [
  {
   "cell_type": "markdown",
   "id": "433379d2",
   "metadata": {},
   "source": [
    "# **Import Libraries**"
   ]
  },
  {
   "cell_type": "code",
   "execution_count": 1,
   "id": "a020de74",
   "metadata": {},
   "outputs": [],
   "source": [
    "import pandas as pd\n",
    "from sklearn.preprocessing import StandardScaler, OneHotEncoder\n",
    "from sklearn.cluster import AgglomerativeClustering\n",
    "from sklearn.decomposition import PCA\n",
    "from sklearn.metrics import silhouette_score, davies_bouldin_score, calinski_harabasz_score\n",
    "import matplotlib.pyplot as plt\n",
    "from scipy.cluster.hierarchy import dendrogram, linkage\n",
    "from sklearn.cluster import AgglomerativeClustering"
   ]
  },
  {
   "cell_type": "markdown",
   "id": "a5be1272",
   "metadata": {},
   "source": [
    "- This script performs data loading, preprocessing, scaling, and clustering on the California Housing dataset.\n",
    "- It includes steps to handle missing values, encode categorical features, apply PCA for dimension reduction, and utilize Agglomerative Clustering with various configurations to evaluate clustering performance using Silhouette Score, Davies-Bouldin Index, and Calinski-Harabasz Index."
   ]
  },
  {
   "cell_type": "markdown",
   "id": "19395f76",
   "metadata": {},
   "source": [
    "# Data Loading & Preprocessing"
   ]
  },
  {
   "cell_type": "code",
   "execution_count": 2,
   "id": "c96bb330",
   "metadata": {},
   "outputs": [],
   "source": [
    "path = 'C:\\\\Users\\\\zcindemir\\\\Desktop\\\\Data Mining Project\\\\housing.csv'\n",
    "housing = pd.read_csv(path)\n",
    "\n",
    "housing['total_bedrooms'].fillna(housing['total_bedrooms'].median(), inplace=True)\n",
    "\n",
    "encoder = OneHotEncoder()\n",
    "ocean_proximity_encoded = encoder.fit_transform(housing[['ocean_proximity']]).toarray()\n",
    "feature_names = encoder.get_feature_names_out(['ocean_proximity'])\n",
    "ocean_proximity_df = pd.DataFrame(ocean_proximity_encoded, columns=feature_names)\n",
    "housing_encoded = pd.concat([housing.drop('ocean_proximity', axis=1), ocean_proximity_df], axis=1)\n",
    "\n",
    "scaler = StandardScaler()\n",
    "housing_scaled = scaler.fit_transform(housing_encoded)"
   ]
  },
  {
   "cell_type": "code",
   "execution_count": 3,
   "id": "c04d3b34",
   "metadata": {},
   "outputs": [],
   "source": [
    "all_scores_agg = []\n",
    "\n",
    "pca_dimensions = [2, 3, 4]\n",
    "cluster_counts = [5, 6, 7, 8]\n",
    "metrics = ['euclidean', 'manhattan']\n",
    "linkages = ['ward', 'complete', 'average', 'single']\n",
    "\n",
    "\n",
    "for dim in pca_dimensions:\n",
    "    pca = PCA(n_components=dim)\n",
    "    housing_pca = pca.fit_transform(housing_scaled)\n",
    "\n",
    "    for clusters in cluster_counts:\n",
    "        for metric in metrics:\n",
    "            for linkage in linkages:\n",
    "                if linkage == 'ward' and metric != 'euclidean':\n",
    "                    continue\n",
    "                agg_clustering = AgglomerativeClustering(n_clusters=clusters, linkage=linkage, metric=metric)\n",
    "                cluster_labels = agg_clustering.fit_predict(housing_pca)\n",
    "\n",
    "                silhouette = silhouette_score(housing_pca, cluster_labels)\n",
    "                davies = davies_bouldin_score(housing_pca, cluster_labels)\n",
    "                calinski = calinski_harabasz_score(housing_pca, cluster_labels)\n",
    "\n",
    "                all_scores_agg.append({\n",
    "                    'PCA Dimensions': dim,\n",
    "                    'Number of Clusters': clusters,\n",
    "                    'Metric': metric,\n",
    "                    'Linkage': linkage,\n",
    "                    'Silhouette Score': silhouette,\n",
    "                    'Davies-Bouldin Index': davies,\n",
    "                    'Calinski-Harabasz Index': calinski\n",
    "                })\n",
    "\n",
    "\n",
    "agg_results_df = pd.DataFrame(all_scores_agg)"
   ]
  },
  {
   "cell_type": "code",
   "execution_count": 4,
   "id": "c87a146c",
   "metadata": {},
   "outputs": [
    {
     "data": {
      "text/plain": [
       "PCA Dimensions                      2\n",
       "Number of Clusters                  6\n",
       "Metric                      euclidean\n",
       "Linkage                        single\n",
       "Silhouette Score             0.856173\n",
       "Davies-Bouldin Index         0.184165\n",
       "Calinski-Harabasz Index    140.744925\n",
       "Name: 10, dtype: object"
      ]
     },
     "execution_count": 4,
     "metadata": {},
     "output_type": "execute_result"
    }
   ],
   "source": [
    "best_silhouette_row = agg_results_df.loc[agg_results_df['Silhouette Score'].idxmax()]\n",
    "best_silhouette_row"
   ]
  },
  {
   "cell_type": "code",
   "execution_count": 5,
   "id": "0bb9719b",
   "metadata": {},
   "outputs": [
    {
     "data": {
      "text/plain": [
       "PCA Dimensions                     2\n",
       "Number of Clusters                 5\n",
       "Metric                     euclidean\n",
       "Linkage                       single\n",
       "Silhouette Score            0.855944\n",
       "Davies-Bouldin Index        0.082388\n",
       "Calinski-Harabasz Index    124.09645\n",
       "Name: 3, dtype: object"
      ]
     },
     "execution_count": 5,
     "metadata": {},
     "output_type": "execute_result"
    }
   ],
   "source": [
    "best_db_row = agg_results_df.loc[agg_results_df['Davies-Bouldin Index'].idxmin()]\n",
    "best_db_row"
   ]
  },
  {
   "cell_type": "code",
   "execution_count": 6,
   "id": "6fe06ae2",
   "metadata": {},
   "outputs": [
    {
     "data": {
      "text/plain": [
       "PCA Dimensions                        2\n",
       "Number of Clusters                    7\n",
       "Metric                        euclidean\n",
       "Linkage                            ward\n",
       "Silhouette Score               0.359905\n",
       "Davies-Bouldin Index           0.897696\n",
       "Calinski-Harabasz Index    14696.573486\n",
       "Name: 14, dtype: object"
      ]
     },
     "execution_count": 6,
     "metadata": {},
     "output_type": "execute_result"
    }
   ],
   "source": [
    "best_ch_row = agg_results_df.loc[agg_results_df['Calinski-Harabasz Index'].idxmax()]\n",
    "best_ch_row"
   ]
  }
 ],
 "metadata": {
  "kernelspec": {
   "display_name": "Python 3 (ipykernel)",
   "language": "python",
   "name": "python3"
  },
  "language_info": {
   "codemirror_mode": {
    "name": "ipython",
    "version": 3
   },
   "file_extension": ".py",
   "mimetype": "text/x-python",
   "name": "python",
   "nbconvert_exporter": "python",
   "pygments_lexer": "ipython3",
   "version": "3.10.9"
  }
 },
 "nbformat": 4,
 "nbformat_minor": 5
}
